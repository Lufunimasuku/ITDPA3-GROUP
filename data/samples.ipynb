{
 "cells": [
  {
   "cell_type": "code",
   "execution_count": null,
   "id": "2a673704",
   "metadata": {},
   "outputs": [
    {
     "name": "stderr",
     "output_type": "stream",
     "text": [
      "C:\\Users\\Dell E5450\\AppData\\Local\\Temp\\ipykernel_13064\\1143054668.py:3: DtypeWarning: Columns (47) have mixed types. Specify dtype option on import or set low_memory=False.\n",
      "  df = pd.read_csv(\"../data/raw/Finscope South Africa 2019.csv\")\n"
     ]
    }
   ],
   "source": [
    "import pandas as pd\n",
    "\n",
    "df = pd.read_csv(\"../data/raw/Finscope South Africa 2019.csv\")\n",
    "sampled_df = df.sample(frac=0.05, random_state=42)  # 5% of Finscope South Africa 2019 dataset\n",
    "sampled_df.to_csv(\"../data/raw/Finscope_sample.csv\", index=False)\n"
   ]
  },
  {
   "cell_type": "code",
   "execution_count": 10,
   "id": "d9adb6b5",
   "metadata": {},
   "outputs": [],
   "source": [
    "import pandas as pd\n",
    "\n",
    "df = pd.read_csv(\"../data/raw/WB_FINDEX.csv\")\n",
    "sampled_df = df.sample(frac=0.0005, random_state=42)  # 0.05% of WB_FINDEX_sample dataset\n",
    "sampled_df.to_csv(\"../data/raw/WB_FINDEX_sample.csv\", index=False)\n"
   ]
  }
 ],
 "metadata": {
  "kernelspec": {
   "display_name": "Python 3",
   "language": "python",
   "name": "python3"
  },
  "language_info": {
   "codemirror_mode": {
    "name": "ipython",
    "version": 3
   },
   "file_extension": ".py",
   "mimetype": "text/x-python",
   "name": "python",
   "nbconvert_exporter": "python",
   "pygments_lexer": "ipython3",
   "version": "3.11.3"
  }
 },
 "nbformat": 4,
 "nbformat_minor": 5
}
