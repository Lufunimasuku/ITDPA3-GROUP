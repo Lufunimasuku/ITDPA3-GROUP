{
 "cells": [
  {
   "cell_type": "code",
   "execution_count": null,
   "id": "adeadc8e",
   "metadata": {},
   "outputs": [
    {
     "name": "stdout",
     "output_type": "stream",
     "text": [
      "📊 Numerical columns (42): ['HH_WEIGHT16', 'BENCHWGT_PP', 'EACode', 'SP_code', 'VisitPnt', 'MainHouseHold_1_Age', 'Number_in_HH', 'Adults_in_HH', 'C8_1', 'C8_2'] ...\n",
      "🔠 Categorical columns (3263): ['SP_name', 'Province', 'EA_GTI_GType3', 'EA_GTI_GType6', 'Area_Type_MDB', 'AC3_AreaType_Kantar', 'EA_Sub', 'MainHouseHold_2_Age', 'MainHouseHold_3_Age', 'MainHouseHold_4_Age'] ...\n",
      "🆔 Identifier-like columns: ['ID', 'ID_working']\n",
      "\n",
      "❓ Missing Values Summary:\n",
      "L2_1    86\n",
      "L2_3    84\n",
      "L2_7    81\n",
      "L2_2    71\n",
      "E7      39\n",
      "dtype: int64\n"
     ]
    }
   ],
   "source": [
    "import pandas as pd\n",
    "\n",
    "# Load dataset\n",
    "df = pd.read_csv(\"../data/raw/Finscope_sample.csv\")\n",
    "\n",
    "# Identify columns\n",
    "num_cols = df.select_dtypes(include=[\"int64\", \"float64\"]).columns.tolist()\n",
    "cat_cols = df.select_dtypes(include=[\"object\", \"category\"]).columns.tolist()\n",
    "\n",
    "# ID-like columns: numeric but unique per row\n",
    "id_like_cols = [col for col in num_cols if df[col].nunique() == len(df)]\n",
    "num_cols = [col for col in num_cols if col not in id_like_cols]\n",
    "\n",
    "print(f\"📊 Numerical columns ({len(num_cols)}): {num_cols[:10]} ...\")\n",
    "print(f\"🔠 Categorical columns ({len(cat_cols)}): {cat_cols[:10]} ...\")\n",
    "print(f\"🆔 Identifier-like columns: {id_like_cols}\")\n",
    "\n",
    "# Missing values summary\n",
    "missing_summary = df.isnull().sum().sort_values(ascending=False)\n",
    "print(\"\\n❓ Missing Values Summary:\")\n",
    "print(missing_summary[missing_summary > 0])\n"
   ]
  },
  {
   "cell_type": "code",
   "execution_count": 10,
   "id": "b419702b",
   "metadata": {},
   "outputs": [
    {
     "name": "stdout",
     "output_type": "stream",
     "text": [
      "✅ Preprocessing complete. Saved to ../data/processed/processed_Finscope_sample.csv\n",
      "Numeric columns included: ['MainHouseHold_1_Age', 'Resp_Age', 'LSM_2014_TotalScore']\n",
      "Categorical columns included: ['Province', 'MainHouseHold_1_Gender', 'MainHouseHold_2_Gender', 'MainHouseHold_3_Gender', 'MainHouseHold_4_Gender', 'MainHouseHold_5_Gender', 'MainHouseHold_6_Gender', 'MainHouseHold_7_Gender', 'MainHouseHold_8_Gender', 'MainHouseHold_9_Gender', 'MainHouseHold_10_Gender', 'MainHouseHold_1_Race', 'MainHouseHold_2_Race', 'MainHouseHold_3_Race', 'MainHouseHold_4_Race', 'MainHouseHold_5_Race', 'MainHouseHold_6_Race', 'MainHouseHold_7_Race', 'MainHouseHold_8_Race', 'MainHouseHold_9_Race', 'MainHouseHold_10_Race', 'Resp_Gender', 'Resp_Race']\n",
      "Target columns included: []\n"
     ]
    }
   ],
   "source": [
    "import pandas as pd\n",
    "from sklearn.preprocessing import OneHotEncoder, StandardScaler\n",
    "import os\n",
    "\n",
    "# Paths\n",
    "raw_path = \"../data/raw/Finscope_sample.csv\"\n",
    "processed_path = \"../data/processed/processed_Finscope_sample.csv\"\n",
    "\n",
    "# Load dataset\n",
    "df = pd.read_csv(raw_path)\n",
    "\n",
    "# Strip whitespace from column names\n",
    "df.columns = df.columns.str.strip()\n",
    "\n",
    "# Define patterns for numeric and categorical features\n",
    "numeric_patterns = [\"Age\", \"Income\", \"Loan\", \"Previous Loan History\", \"Score\", \"Amount\", \"Time\"]\n",
    "categorical_patterns = [\"Gender\", \"Race\", \"Province\", \"Marital\", \"Employment\", \"Education\", \"Approval\"]\n",
    "\n",
    "# Automatically detect numeric columns\n",
    "numeric_cols = [col for col in df.select_dtypes(include=[\"number\"]).columns\n",
    "                if any(pat in col for pat in numeric_patterns)]\n",
    "\n",
    "# Automatically detect categorical columns\n",
    "categorical_cols = [col for col in df.select_dtypes(include=[\"object\", \"category\"]).columns\n",
    "                    if any(pat in col for pat in categorical_patterns)]\n",
    "\n",
    "# Fill missing values\n",
    "if numeric_cols:\n",
    "    df[numeric_cols] = df[numeric_cols].fillna(df[numeric_cols].median())\n",
    "if categorical_cols:\n",
    "    df[categorical_cols] = df[categorical_cols].fillna(\"Unknown\")\n",
    "\n",
    "# One-hot encode categorical columns\n",
    "if categorical_cols:\n",
    "    encoder = OneHotEncoder(sparse_output=False, handle_unknown=\"ignore\")\n",
    "    encoded_cat = encoder.fit_transform(df[categorical_cols])\n",
    "    encoded_cat_df = pd.DataFrame(encoded_cat, columns=encoder.get_feature_names_out(categorical_cols))\n",
    "else:\n",
    "    encoded_cat_df = pd.DataFrame()\n",
    "\n",
    "# Scale numeric columns\n",
    "if numeric_cols:\n",
    "    scaler = StandardScaler()\n",
    "    scaled_num = scaler.fit_transform(df[numeric_cols])\n",
    "    scaled_num_df = pd.DataFrame(scaled_num, columns=numeric_cols)\n",
    "else:\n",
    "    scaled_num_df = pd.DataFrame()\n",
    "\n",
    "# Detect target columns (example targets)\n",
    "target_cols = [\"Credit Score\", \"Loan Approval\"]\n",
    "existing_target_cols = [col for col in target_cols if col in df.columns]\n",
    "\n",
    "# Combine processed features and targets\n",
    "processed_df = pd.concat([scaled_num_df, encoded_cat_df, df[existing_target_cols].reset_index(drop=True)], axis=1)\n",
    "\n",
    "# Ensure processed folder exists\n",
    "os.makedirs(os.path.dirname(processed_path), exist_ok=True)\n",
    "\n",
    "# Save preprocessed CSV\n",
    "processed_df.to_csv(processed_path, index=False)\n",
    "print(f\"✅ Preprocessing complete. Saved to {processed_path}\")\n",
    "print(f\"Numeric columns included: {numeric_cols}\")\n",
    "print(f\"Categorical columns included: {categorical_cols}\")\n",
    "print(f\"Target columns included: {existing_target_cols}\")\n"
   ]
  }
 ],
 "metadata": {
  "kernelspec": {
   "display_name": "Python 3",
   "language": "python",
   "name": "python3"
  },
  "language_info": {
   "codemirror_mode": {
    "name": "ipython",
    "version": 3
   },
   "file_extension": ".py",
   "mimetype": "text/x-python",
   "name": "python",
   "nbconvert_exporter": "python",
   "pygments_lexer": "ipython3",
   "version": "3.11.3"
  }
 },
 "nbformat": 4,
 "nbformat_minor": 5
}
